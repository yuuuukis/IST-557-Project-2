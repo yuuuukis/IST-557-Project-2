{
 "cells": [
  {
   "cell_type": "code",
   "execution_count": 1,
   "id": "09d783bc",
   "metadata": {},
   "outputs": [
    {
     "name": "stderr",
     "output_type": "stream",
     "text": [
      "C:\\Users\\Yuki\\OneDrive - The Pennsylvania State University\\EPiC2023\\with_dynamic_features\\mvts_transformer\\ts_transformer\\lib\\site-packages\\tqdm\\auto.py:21: TqdmWarning: IProgress not found. Please update jupyter and ipywidgets. See https://ipywidgets.readthedocs.io/en/stable/user_install.html\n",
      "  from .autonotebook import tqdm as notebook_tqdm\n"
     ]
    }
   ],
   "source": [
    "import torch\n",
    "import torchvision\n",
    "import torchvision.transforms as transforms\n",
    "import pandas as pd"
   ]
  },
  {
   "cell_type": "code",
   "execution_count": 15,
   "id": "2c7478fa",
   "metadata": {},
   "outputs": [
    {
     "name": "stdout",
     "output_type": "stream",
     "text": [
      "Files already downloaded and verified\n",
      "Files already downloaded and verified\n"
     ]
    }
   ],
   "source": [
    "transform = transforms.Compose(\n",
    "    [transforms.ToTensor(),\n",
    "     transforms.Normalize((0.5, 0.5, 0.5), (0.5, 0.5, 0.5))]) # normalize image to [-1, 1]\n",
    "\n",
    "trainset = torchvision.datasets.CIFAR10(root='./data', train=True,\n",
    "                                        download=True, transform=transform)\n",
    "testset = torchvision.datasets.CIFAR10(root='./data', train=False, download=True, transform=transform)\n",
    "\n",
    "trainloader = torch.utils.data.DataLoader(trainset, batch_size=128,shuffle=True)\n",
    "testloader = torch.utils.data.DataLoader(testset, batch_size=128, shuffle=False)\n",
    "\n",
    "# 10 classes in total\n",
    "classes = ('plane', 'car', 'bird', 'cat',\n",
    "           'deer', 'dog', 'frog', 'horse', 'ship', 'truck') "
   ]
  },
  {
   "cell_type": "code",
   "execution_count": 16,
   "id": "f49e4f3c",
   "metadata": {},
   "outputs": [],
   "source": [
    "# load test data (note that the data has been transformed already)\n",
    "test_images = torch.load('test_image.pt')"
   ]
  },
  {
   "cell_type": "code",
   "execution_count": 17,
   "id": "7a0430cf",
   "metadata": {},
   "outputs": [],
   "source": [
    "# specify the GPU device\n",
    "device = torch.device(\"cuda:0\" if torch.cuda.is_available() else \"cpu\")"
   ]
  },
  {
   "cell_type": "code",
   "execution_count": 18,
   "id": "64a11a27",
   "metadata": {},
   "outputs": [],
   "source": [
    "import torchvision.models as models"
   ]
  },
  {
   "cell_type": "code",
   "execution_count": 19,
   "id": "2c704765",
   "metadata": {},
   "outputs": [],
   "source": [
    "#to try ResNet models with different number of layers\n",
    "def create_resnet(num_layers, dropout_rate):\n",
    "    if num_layers == 18:\n",
    "        net = models.resnet18(pretrained=False,num_classes=10).to(device)\n",
    "    elif num_layers == 34:\n",
    "        net = models.resnet34(pretrained=False,num_classes=10).to(device)\n",
    "    elif num_layers == 50:\n",
    "        net = models.resnet50(pretrained=False,num_classes=10).to(device)\n",
    "    else:\n",
    "        raise ValueError(\"Unsupported number of layers\")\n",
    "\n",
    "    num_features = net.fc.in_features\n",
    "    net.fc = nn.Sequential(\n",
    "        nn.Dropout(dropout_rate),\n",
    "        nn.Linear(num_features, 10)\n",
    "    )\n",
    "    return net\n",
    "\n",
    "\n"
   ]
  },
  {
   "cell_type": "code",
   "execution_count": 16,
   "id": "56280bbc",
   "metadata": {},
   "outputs": [],
   "source": [
    "#this is the final model for the kaggle submission\n",
    "# num_layers = 18, dropout_rate = 0.29578761633364997\n",
    "#net = models.resnet18(pretrained=False, num_classes=10).to(device)\n",
    "net = create_resnet(num_layers=18, dropout_rate=0.29578761633364997).to(device)"
   ]
  },
  {
   "cell_type": "code",
   "execution_count": 7,
   "id": "33675fcf",
   "metadata": {},
   "outputs": [],
   "source": [
    "import torch.optim as optim\n",
    "import torch.nn as nn\n",
    "import optuna"
   ]
  },
  {
   "cell_type": "code",
   "execution_count": 17,
   "id": "a085c4f0",
   "metadata": {},
   "outputs": [
    {
     "name": "stdout",
     "output_type": "stream",
     "text": [
      "Epoch 1 loss: 1.7304518082562614\n",
      "Epoch 1 Accuracy: 47.05%\n",
      "Epoch 2 loss: 1.3162072363411983\n",
      "Epoch 2 Accuracy: 54.95%\n",
      "Epoch 3 loss: 1.1204775876706214\n",
      "Epoch 3 Accuracy: 58.86%\n",
      "Epoch 4 loss: 0.9777314966292028\n",
      "Epoch 4 Accuracy: 62.31%\n",
      "Epoch 5 loss: 0.8298478890258028\n",
      "Epoch 5 Accuracy: 63.63%\n",
      "Epoch 6 loss: 0.710275267319911\n",
      "Epoch 6 Accuracy: 65.37%\n",
      "Epoch 7 loss: 0.6033244251137804\n",
      "Epoch 7 Accuracy: 66.84%\n",
      "Epoch 8 loss: 0.49758579900197664\n",
      "Epoch 8 Accuracy: 66.22%\n",
      "Epoch 9 loss: 0.43003208790441305\n",
      "Epoch 9 Accuracy: 66.63%\n",
      "Epoch 10 loss: 0.37230549676491476\n",
      "Epoch 10 Accuracy: 66.83%\n",
      "Epoch 11 loss: 0.3047101519373067\n",
      "Epoch 11 Accuracy: 67.08%\n",
      "Epoch 12 loss: 0.2545683096398783\n",
      "Epoch 12 Accuracy: 67.95%\n",
      "Epoch 13 loss: 0.21307590590489794\n",
      "Epoch 13 Accuracy: 67.55%\n",
      "Epoch 14 loss: 0.1854083371894134\n",
      "Epoch 14 Accuracy: 68.43%\n",
      "Epoch 15 loss: 0.1505614503970384\n",
      "Epoch 15 Accuracy: 67.75%\n",
      "Epoch 16 loss: 0.14034077464162237\n",
      "Epoch 16 Accuracy: 68.41%\n",
      "Epoch 17 loss: 0.12408013030162553\n",
      "Epoch 17 Accuracy: 68.21%\n",
      "Epoch 18 loss: 0.10847553415009585\n",
      "Epoch 18 Accuracy: 67.98%\n",
      "Epoch 19 loss: 0.11083903092214518\n",
      "Epoch 19 Accuracy: 69.01%\n",
      "Epoch 20 loss: 0.09899963830333308\n",
      "Epoch 20 Accuracy: 68.27%\n",
      "Finished Training\n"
     ]
    }
   ],
   "source": [
    "criterion = nn.CrossEntropyLoss()\n",
    "optimizer = optim.SGD(net.parameters(), lr=0.0007836827942082852, momentum=0.9882941058204819, weight_decay=9.116296060594481e-05)\n",
    "\n",
    "#results from two attemps with hyperparameter tuning using optuna\n",
    "#Best trial: score 66.76, params {'lr': 0.0008323950770691731, 'momentum': 0.9659751984631002, 'weight_decay': 0.0001880406194490467}  layers = 18, drop out rate = 0.1\n",
    "#Best trial: score 69.5, params {'lr': 0.0007836827942082852, 'momentum': 0.9882941058204819, 'weight_decay': 9.116296060594481e-05, 'num_layers': 18, 'dropout_rate': 0.29578761633364997}\n",
    "\n",
    "best_acc = 0.0  # track the best accuracy\n",
    "\n",
    "# Training loop\n",
    "for epoch in range(20):  # loop over the dataset multiple times (e.g., 20 epochs)\n",
    "    running_loss = 0.0\n",
    "    for i, data in enumerate(trainloader, 0):\n",
    "        # get the inputs\n",
    "        inputs, labels = data[0].to(device), data[1].to(device)\n",
    "\n",
    "        # zero the parameter gradients\n",
    "        optimizer.zero_grad()\n",
    "\n",
    "        # forward + backward + optimize\n",
    "        outputs = net(inputs)\n",
    "        loss = criterion(outputs, labels)\n",
    "        loss.backward()\n",
    "        optimizer.step()\n",
    "\n",
    "        running_loss += loss.item()\n",
    "\n",
    "    print(f\"Epoch {epoch+1} loss: {running_loss / len(trainloader)}\")\n",
    "    \n",
    "    \n",
    "    correct = 0\n",
    "    total = 0\n",
    "    with torch.no_grad():\n",
    "        for data in testloader:\n",
    "            images, labels = data[0].to(device), data[1].to(device)\n",
    "            outputs = net(images)\n",
    "            _, predicted = torch.max(outputs.data, 1)\n",
    "            total += labels.size(0)\n",
    "            correct += (predicted == labels).sum().item()\n",
    "\n",
    "    acc = 100 * correct / total\n",
    "    print(f\"Epoch {epoch+1} Accuracy: {acc}%\")\n",
    "\n",
    "    # Check if this model has the best accuracy\n",
    "    if acc > best_acc:\n",
    "        best_acc = acc\n",
    "        torch.save(net.state_dict(), 'best_model.pth')  # save the best model\n",
    "        \n",
    "print('Finished Training')"
   ]
  },
  {
   "cell_type": "code",
   "execution_count": 18,
   "id": "896b4f92",
   "metadata": {},
   "outputs": [],
   "source": [
    "import numpy as np"
   ]
  },
  {
   "cell_type": "code",
   "execution_count": 19,
   "id": "3c2523dd",
   "metadata": {},
   "outputs": [
    {
     "name": "stdout",
     "output_type": "stream",
     "text": [
      "['cat' 'dog' 'frog' ... 'plane' 'bird' 'bird']\n"
     ]
    },
    {
     "data": {
      "text/html": [
       "<div>\n",
       "<style scoped>\n",
       "    .dataframe tbody tr th:only-of-type {\n",
       "        vertical-align: middle;\n",
       "    }\n",
       "\n",
       "    .dataframe tbody tr th {\n",
       "        vertical-align: top;\n",
       "    }\n",
       "\n",
       "    .dataframe thead th {\n",
       "        text-align: right;\n",
       "    }\n",
       "</style>\n",
       "<table border=\"1\" class=\"dataframe\">\n",
       "  <thead>\n",
       "    <tr style=\"text-align: right;\">\n",
       "      <th></th>\n",
       "      <th>label</th>\n",
       "    </tr>\n",
       "  </thead>\n",
       "  <tbody>\n",
       "    <tr>\n",
       "      <th>0</th>\n",
       "      <td>cat</td>\n",
       "    </tr>\n",
       "    <tr>\n",
       "      <th>1</th>\n",
       "      <td>dog</td>\n",
       "    </tr>\n",
       "    <tr>\n",
       "      <th>2</th>\n",
       "      <td>frog</td>\n",
       "    </tr>\n",
       "    <tr>\n",
       "      <th>3</th>\n",
       "      <td>bird</td>\n",
       "    </tr>\n",
       "    <tr>\n",
       "      <th>4</th>\n",
       "      <td>ship</td>\n",
       "    </tr>\n",
       "    <tr>\n",
       "      <th>...</th>\n",
       "      <td>...</td>\n",
       "    </tr>\n",
       "    <tr>\n",
       "      <th>4995</th>\n",
       "      <td>deer</td>\n",
       "    </tr>\n",
       "    <tr>\n",
       "      <th>4996</th>\n",
       "      <td>ship</td>\n",
       "    </tr>\n",
       "    <tr>\n",
       "      <th>4997</th>\n",
       "      <td>plane</td>\n",
       "    </tr>\n",
       "    <tr>\n",
       "      <th>4998</th>\n",
       "      <td>bird</td>\n",
       "    </tr>\n",
       "    <tr>\n",
       "      <th>4999</th>\n",
       "      <td>bird</td>\n",
       "    </tr>\n",
       "  </tbody>\n",
       "</table>\n",
       "<p>5000 rows × 1 columns</p>\n",
       "</div>"
      ],
      "text/plain": [
       "      label\n",
       "0       cat\n",
       "1       dog\n",
       "2      frog\n",
       "3      bird\n",
       "4      ship\n",
       "...     ...\n",
       "4995   deer\n",
       "4996   ship\n",
       "4997  plane\n",
       "4998   bird\n",
       "4999   bird\n",
       "\n",
       "[5000 rows x 1 columns]"
      ]
     },
     "execution_count": 19,
     "metadata": {},
     "output_type": "execute_result"
    }
   ],
   "source": [
    "#make predictions to the kaggle test dataset\n",
    "#model = models.resnet18(pretrained=False, num_classes=10).to(device)\n",
    "model = create_resnet(num_layers=18, dropout_rate=0.29578761633364997).to(device)\n",
    "model.load_state_dict(torch.load('best_model.pth'))\n",
    "model.eval()  # Set the model to evaluation mode\n",
    "\n",
    "# Use the model for predictions\n",
    "with torch.no_grad():\n",
    "    test_images = test_images.to(device)\n",
    "    output = model(test_images)\n",
    "    _, predicted = torch.max(output.data, 1)\n",
    "    predicted = np.array([classes[i] for i in predicted])\n",
    "    \n",
    "print(predicted)   \n",
    "    \n",
    "submission = pd.DataFrame()\n",
    "submission['label'] = predicted\n",
    "submission.to_csv(\"submission1026.csv\", index=True, index_label='id')\n",
    "submission"
   ]
  },
  {
   "cell_type": "code",
   "execution_count": 20,
   "id": "c9ae07e6",
   "metadata": {},
   "outputs": [],
   "source": [
    "###########with hyperparameter tuning#################\n",
    "import optuna\n",
    "import torch\n",
    "import torchvision.models as models\n",
    "import torch.nn as nn\n",
    "import torch.optim as optim"
   ]
  },
  {
   "cell_type": "code",
   "execution_count": 21,
   "id": "05cd7d8b",
   "metadata": {},
   "outputs": [
    {
     "name": "stderr",
     "output_type": "stream",
     "text": [
      "[I 2023-10-26 19:46:20,304] A new study created in memory with name: no-name-a8859716-3a90-45b4-83a6-5ec1e1fc5bbe\n"
     ]
    },
    {
     "name": "stdout",
     "output_type": "stream",
     "text": [
      "Epoch 1 Accuracy: 35.55%\n",
      "Epoch 2 Accuracy: 43.59%\n",
      "Epoch 3 Accuracy: 46.43%\n",
      "Epoch 4 Accuracy: 48.83%\n",
      "Epoch 5 Accuracy: 51.35%\n",
      "Epoch 6 Accuracy: 52.49%\n",
      "Epoch 7 Accuracy: 53.54%\n",
      "Epoch 8 Accuracy: 53.23%\n",
      "Epoch 9 Accuracy: 54.05%\n",
      "Epoch 10 Accuracy: 53.94%\n",
      "Epoch 11 Accuracy: 54.73%\n",
      "Epoch 12 Accuracy: 53.81%\n",
      "Epoch 13 Accuracy: 53.57%\n",
      "Epoch 14 Accuracy: 53.87%\n"
     ]
    },
    {
     "name": "stderr",
     "output_type": "stream",
     "text": [
      "[I 2023-10-26 19:52:13,100] Trial 0 finished with value: 54.73 and parameters: {'lr': 0.0002731547816681979, 'momentum': 0.9361874929587692, 'weight_decay': 1.591334024066517e-05, 'num_layers': 34, 'dropout_rate': 0.3432538481627849}. Best is trial 0 with value: 54.73.\n"
     ]
    },
    {
     "name": "stdout",
     "output_type": "stream",
     "text": [
      "Epoch 15 Accuracy: 54.04%\n",
      "Best trial: score 54.73, params {'lr': 0.0002731547816681979, 'momentum': 0.9361874929587692, 'weight_decay': 1.591334024066517e-05, 'num_layers': 34, 'dropout_rate': 0.3432538481627849}\n"
     ]
    }
   ],
   "source": [
    " def objective(trial):\n",
    "    lr = trial.suggest_float('lr', 1e-5, 1e-3, log=True)\n",
    "    momentum = trial.suggest_float('momentum', 0.5, 0.99)\n",
    "    weight_decay = trial.suggest_float('weight_decay', 1e-5, 1e-4, log=True)\n",
    "    num_layers = trial.suggest_categorical('num_layers', [18, 34, 50])\n",
    "    dropout_rate = trial.suggest_float('dropout_rate', 0.1, 0.5)\n",
    "\n",
    "    net = create_resnet(num_layers, dropout_rate).to(device) \n",
    "    criterion = nn.CrossEntropyLoss()\n",
    "    optimizer = optim.SGD(net.parameters(), lr=lr, momentum=momentum, weight_decay=weight_decay)\n",
    "\n",
    "    best_acc = 0.0\n",
    "\n",
    "    for epoch in range(15):  #after several attempts, it seems like the loss become stable after 10 epochs\n",
    "        running_loss = 0.0\n",
    "        for i, data in enumerate(trainloader, 0):\n",
    "            inputs, labels = data[0].to(device), data[1].to(device)\n",
    "            optimizer.zero_grad()\n",
    "            outputs = net(inputs)\n",
    "            loss = criterion(outputs, labels)\n",
    "            loss.backward()\n",
    "            optimizer.step()\n",
    "            running_loss += loss.item()\n",
    "\n",
    "        correct = 0\n",
    "        total = 0\n",
    "        with torch.no_grad():\n",
    "            for data in testloader:\n",
    "                images, labels = data[0].to(device), data[1].to(device)\n",
    "                outputs = net(images)\n",
    "                _, predicted = torch.max(outputs.data, 1)\n",
    "                total += labels.size(0)\n",
    "                correct += (predicted == labels).sum().item()\n",
    "\n",
    "        acc = 100 * correct / total\n",
    "        print(f\"Epoch {epoch+1} Accuracy: {acc}%\")\n",
    "        if acc > best_acc:\n",
    "            best_acc = acc\n",
    "\n",
    "    return best_acc  \n",
    "\n",
    "# optimization\n",
    "study = optuna.create_study(direction='maximize')  \n",
    "study.optimize(objective, n_trials=1)  #for the kaggle project, the tuning was based on 50 trials.\n",
    "\n",
    "# Print best results\n",
    "print(f'Best trial: score {study.best_value}, params {study.best_params}')"
   ]
  },
  {
   "cell_type": "code",
   "execution_count": null,
   "id": "b33a254b",
   "metadata": {},
   "outputs": [],
   "source": []
  }
 ],
 "metadata": {
  "kernelspec": {
   "display_name": "Python 3 (ipykernel)",
   "language": "python",
   "name": "python3"
  },
  "language_info": {
   "codemirror_mode": {
    "name": "ipython",
    "version": 3
   },
   "file_extension": ".py",
   "mimetype": "text/x-python",
   "name": "python",
   "nbconvert_exporter": "python",
   "pygments_lexer": "ipython3",
   "version": "3.8.10"
  }
 },
 "nbformat": 4,
 "nbformat_minor": 5
}
