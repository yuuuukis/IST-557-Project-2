{
 "cells": [
  {
   "cell_type": "code",
   "execution_count": 7,
   "id": "09d783bc",
   "metadata": {},
   "outputs": [],
   "source": [
    "import torch\n",
    "import torchvision\n",
    "import torchvision.transforms as transforms\n",
    "import pandas as pd"
   ]
  },
  {
   "cell_type": "code",
   "execution_count": 8,
   "id": "2c7478fa",
   "metadata": {},
   "outputs": [
    {
     "name": "stdout",
     "output_type": "stream",
     "text": [
      "Files already downloaded and verified\n",
      "Files already downloaded and verified\n"
     ]
    }
   ],
   "source": [
    "transform = transforms.Compose(\n",
    "    [transforms.ToTensor(),\n",
    "     transforms.Normalize((0.5, 0.5, 0.5), (0.5, 0.5, 0.5))]) # normalize image to [-1, 1]\n",
    "\n",
    "trainset = torchvision.datasets.CIFAR10(root='./data', train=True,\n",
    "                                        download=True, transform=transform)\n",
    "testset = torchvision.datasets.CIFAR10(root='./data', train=False, download=True, transform=transform)\n",
    "\n",
    "trainloader = torch.utils.data.DataLoader(trainset, batch_size=128,shuffle=True)\n",
    "testloader = torch.utils.data.DataLoader(testset, batch_size=128, shuffle=False)\n",
    "\n",
    "# 10 classes in total\n",
    "classes = ('plane', 'car', 'bird', 'cat',\n",
    "           'deer', 'dog', 'frog', 'horse', 'ship', 'truck') "
   ]
  },
  {
   "cell_type": "code",
   "execution_count": 9,
   "id": "f49e4f3c",
   "metadata": {},
   "outputs": [],
   "source": [
    "# load test data (note that the data has been transformed already)\n",
    "test_images = torch.load('test_image.pt')"
   ]
  },
  {
   "cell_type": "code",
   "execution_count": 10,
   "id": "7a0430cf",
   "metadata": {},
   "outputs": [],
   "source": [
    "# specify the GPU device\n",
    "device = torch.device(\"cuda:0\" if torch.cuda.is_available() else \"cpu\")"
   ]
  },
  {
   "cell_type": "code",
   "execution_count": 11,
   "id": "64a11a27",
   "metadata": {},
   "outputs": [],
   "source": [
    "import torchvision.models as models"
   ]
  },
  {
   "cell_type": "code",
   "execution_count": 12,
   "id": "2c704765",
   "metadata": {},
   "outputs": [],
   "source": [
    "#to try ResNet models with different number of layers\n",
    "def create_resnet(num_layers, dropout_rate):\n",
    "    if num_layers == 18:\n",
    "        net = models.resnet18(pretrained=False,num_classes=10).to(device)\n",
    "    elif num_layers == 34:\n",
    "        net = models.resnet34(pretrained=False,num_classes=10).to(device)\n",
    "    elif num_layers == 50:\n",
    "        net = models.resnet50(pretrained=False,num_classes=10).to(device)\n",
    "    else:\n",
    "        raise ValueError(\"Unsupported number of layers\")\n",
    "\n",
    "    num_features = net.fc.in_features\n",
    "    net.fc = nn.Sequential(\n",
    "        nn.Dropout(dropout_rate),\n",
    "        nn.Linear(num_features, 10)\n",
    "    )\n",
    "    return net"
   ]
  },
  {
   "cell_type": "code",
   "execution_count": 24,
   "id": "56280bbc",
   "metadata": {},
   "outputs": [],
   "source": [
    "#this is the final model for the kaggle submission\n",
    "#num_layers = 18, dropout_rate = 0.29578761633364997\n",
    "#net = models.resnet18(pretrained=False, num_classes=10).to(device)\n",
    "net = create_resnet(num_layers=18, dropout_rate=0.29578761633364997).to(device)"
   ]
  },
  {
   "cell_type": "code",
   "execution_count": 13,
   "id": "33675fcf",
   "metadata": {},
   "outputs": [],
   "source": [
    "import torch.optim as optim\n",
    "import torch.nn as nn\n",
    "import optuna"
   ]
  },
  {
   "cell_type": "code",
   "execution_count": null,
   "id": "de0ba818",
   "metadata": {},
   "outputs": [],
   "source": [
    "criterion = nn.CrossEntropyLoss()\n",
    "optimizer = optim.SGD(net.parameters(), lr=0.0007836827942082852, momentum=0.9882941058204819, weight_decay=9.116296060594481e-05)\n",
    "\n",
    "#results from two attemps with hyperparameter tuning using optuna\n",
    "#Best trial: score 66.76, params {'lr': 0.0008323950770691731, 'momentum': 0.9659751984631002, 'weight_decay': 0.0001880406194490467}  layers = 18, drop out rate = 0.1\n",
    "#Best trial: score 69.5, params {'lr': 0.0007836827942082852, 'momentum': 0.9882941058204819, 'weight_decay': 9.116296060594481e-05, 'num_layers': 18, 'dropout_rate': 0.29578761633364997}\n",
    "\n",
    "best_acc = 0.0  # track the best accuracy\n",
    "\n",
    "# Training loop\n",
    "for epoch in range(20): \n",
    "    running_loss = 0.0\n",
    "    for i, data in enumerate(trainloader, 0):\n",
    "        # get the inputs\n",
    "        inputs, labels = data[0].to(device), data[1].to(device)\n",
    "\n",
    "        # zero the parameter gradients\n",
    "        optimizer.zero_grad()\n",
    "\n",
    "        # forward + backward + optimize\n",
    "        outputs = net(inputs)\n",
    "        loss = criterion(outputs, labels)\n",
    "        loss.backward()\n",
    "        optimizer.step()\n",
    "\n",
    "        running_loss += loss.item()\n",
    "\n",
    "    print(f\"Epoch {epoch+1} loss: {running_loss / len(trainloader)}\")\n",
    "    \n",
    "    \n",
    "    correct = 0\n",
    "    total = 0\n",
    "    with torch.no_grad():\n",
    "        for data in testloader:\n",
    "            images, labels = data[0].to(device), data[1].to(device)\n",
    "            outputs = net(images)\n",
    "            _, predicted = torch.max(outputs.data, 1)\n",
    "            total += labels.size(0)\n",
    "            correct += (predicted == labels).sum().item()\n",
    "\n",
    "    acc = 100 * correct / total\n",
    "    print(f\"Epoch {epoch+1} Accuracy: {acc}%\")\n",
    "\n",
    "    # Check if this model has the best accuracy\n",
    "    if acc > best_acc:\n",
    "        best_acc = acc\n",
    "        torch.save(net.state_dict(), 'best_model.pth')  # save the best model\n",
    "        \n",
    "print('Finished Training')"
   ]
  },
  {
   "cell_type": "code",
   "execution_count": 28,
   "id": "896b4f92",
   "metadata": {},
   "outputs": [],
   "source": [
    "import numpy as np"
   ]
  },
  {
   "cell_type": "code",
   "execution_count": null,
   "id": "0abf7664",
   "metadata": {},
   "outputs": [],
   "source": [
    "#make predictions to the kaggle test dataset\n",
    "#model = models.resnet18(pretrained=False, num_classes=10).to(device)\n",
    "model = create_resnet(num_layers=18, dropout_rate=0.29578761633364997).to(device)\n",
    "model.load_state_dict(torch.load('best_model.pth'))\n",
    "model.eval()  # Set the model to evaluation mode\n",
    "\n",
    "# Use the model for predictions\n",
    "with torch.no_grad():\n",
    "    test_images = test_images.to(device)\n",
    "    output = model(test_images)\n",
    "    _, predicted = torch.max(output.data, 1)\n",
    "    predicted = np.array([classes[i] for i in predicted])\n",
    "    \n",
    "print(predicted)   \n",
    "    \n",
    "submission = pd.DataFrame()\n",
    "submission['label'] = predicted\n",
    "submission.to_csv(\"submission1026.csv\", index=True, index_label='id')\n",
    "submission"
   ]
  },
  {
   "cell_type": "code",
   "execution_count": 14,
   "id": "c9ae07e6",
   "metadata": {},
   "outputs": [],
   "source": [
    "###########with hyperparameter tuning#################\n",
    "import optuna\n",
    "import torch\n",
    "import torchvision.models as models\n",
    "import torch.nn as nn\n",
    "import torch.optim as optim"
   ]
  },
  {
   "cell_type": "code",
   "execution_count": null,
   "id": "513940aa",
   "metadata": {},
   "outputs": [],
   "source": [
    " def objective(trial):\n",
    "    lr = trial.suggest_float('lr', 1e-5, 1e-3, log=True)\n",
    "    momentum = trial.suggest_float('momentum', 0.5, 0.99)\n",
    "    weight_decay = trial.suggest_float('weight_decay', 1e-5, 1e-4, log=True)\n",
    "    num_layers = trial.suggest_categorical('num_layers', [18, 34, 50])\n",
    "    dropout_rate = trial.suggest_float('dropout_rate', 0.1, 0.5)\n",
    "\n",
    "    net = create_resnet(num_layers, dropout_rate).to(device) \n",
    "    criterion = nn.CrossEntropyLoss()\n",
    "    optimizer = optim.SGD(net.parameters(), lr=lr, momentum=momentum, weight_decay=weight_decay)\n",
    "\n",
    "    best_acc = 0.0\n",
    "\n",
    "    for epoch in range(15):  #after several attempts, it seems like the loss become stable after 10 epochs\n",
    "        running_loss = 0.0\n",
    "        for i, data in enumerate(trainloader, 0):\n",
    "            inputs, labels = data[0].to(device), data[1].to(device)\n",
    "            optimizer.zero_grad()\n",
    "            outputs = net(inputs)\n",
    "            loss = criterion(outputs, labels)\n",
    "            loss.backward()\n",
    "            optimizer.step()\n",
    "            running_loss += loss.item()\n",
    "\n",
    "        correct = 0\n",
    "        total = 0\n",
    "        with torch.no_grad():\n",
    "            for data in testloader:\n",
    "                images, labels = data[0].to(device), data[1].to(device)\n",
    "                outputs = net(images)\n",
    "                _, predicted = torch.max(outputs.data, 1)\n",
    "                total += labels.size(0)\n",
    "                correct += (predicted == labels).sum().item()\n",
    "\n",
    "        acc = 100 * correct / total\n",
    "        print(f\"Epoch {epoch+1} Accuracy: {acc}%\")\n",
    "        if acc > best_acc:\n",
    "            best_acc = acc\n",
    "\n",
    "    return best_acc  \n",
    "\n",
    "# optimization\n",
    "study = optuna.create_study(direction='maximize')  \n",
    "study.optimize(objective, n_trials=50)  #for the kaggle project, the tuning was based on 50 trials.\n",
    "\n",
    "# Print best results\n",
    "print(f'Best trial: score {study.best_value}, params {study.best_params}')"
   ]
  }
 ],
 "metadata": {
  "kernelspec": {
   "display_name": "Python 3 (ipykernel)",
   "language": "python",
   "name": "python3"
  },
  "language_info": {
   "codemirror_mode": {
    "name": "ipython",
    "version": 3
   },
   "file_extension": ".py",
   "mimetype": "text/x-python",
   "name": "python",
   "nbconvert_exporter": "python",
   "pygments_lexer": "ipython3",
   "version": "3.8.10"
  }
 },
 "nbformat": 4,
 "nbformat_minor": 5
}
