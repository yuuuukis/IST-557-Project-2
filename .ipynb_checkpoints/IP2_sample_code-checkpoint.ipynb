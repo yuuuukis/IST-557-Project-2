{
 "cells": [
  {
   "cell_type": "markdown",
   "metadata": {},
   "source": [
    "Refer to the Pytorch tutorial for more details: https://pytorch.org/tutorials/beginner/blitz/cifar10_tutorial.html"
   ]
  },
  {
   "cell_type": "code",
   "execution_count": null,
   "metadata": {
    "execution": {
     "iopub.execute_input": "2023-10-17T04:12:08.759377Z",
     "iopub.status.busy": "2023-10-17T04:12:08.757889Z",
     "iopub.status.idle": "2023-10-17T04:12:08.765256Z",
     "shell.execute_reply": "2023-10-17T04:12:08.763755Z",
     "shell.execute_reply.started": "2023-10-17T04:12:08.759329Z"
    }
   },
   "outputs": [],
   "source": [
    "import torch\n",
    "import torchvision\n",
    "import torchvision.transforms as transforms\n",
    "import pandas as pd"
   ]
  },
  {
   "cell_type": "markdown",
   "metadata": {},
   "source": [
    "## Load data\n",
    "\n",
    "The training data is a standard image benchmark from torchvision. \n",
    "\n",
    "The test data is downloaded from the Kaggle competition which is a subset of the benchmark test set."
   ]
  },
  {
   "cell_type": "code",
   "execution_count": null,
   "metadata": {
    "execution": {
     "iopub.execute_input": "2023-10-17T04:12:12.628552Z",
     "iopub.status.busy": "2023-10-17T04:12:12.627896Z",
     "iopub.status.idle": "2023-10-17T04:12:13.628669Z",
     "shell.execute_reply": "2023-10-17T04:12:13.627037Z",
     "shell.execute_reply.started": "2023-10-17T04:12:12.628508Z"
    }
   },
   "outputs": [],
   "source": [
    "# load and transfor training data from standard source\n",
    "transform = transforms.Compose(\n",
    "    [transforms.ToTensor(),\n",
    "     transforms.Normalize((0.5, 0.5, 0.5), (0.5, 0.5, 0.5))]) # normalize image to [-1, 1]\n",
    "\n",
    "trainset = torchvision.datasets.CIFAR10(root='./data', train=True,\n",
    "                                        download=True, transform=transform)\n",
    "\n",
    "# dataloader for batch training (mini-batch gradient descent)\n",
    "batch_size=8\n",
    "trainloader = torch.utils.data.DataLoader(trainset, batch_size=batch_size,\n",
    "                                          shuffle=True, num_workers=2)\n",
    "\n",
    "# 10 classes in total\n",
    "classes = ('plane', 'car', 'bird', 'cat',\n",
    "           'deer', 'dog', 'frog', 'horse', 'ship', 'truck') "
   ]
  },
  {
   "cell_type": "code",
   "execution_count": null,
   "metadata": {
    "execution": {
     "iopub.execute_input": "2023-10-17T04:12:28.434686Z",
     "iopub.status.busy": "2023-10-17T04:12:28.434335Z",
     "iopub.status.idle": "2023-10-17T04:12:28.961544Z",
     "shell.execute_reply": "2023-10-17T04:12:28.959689Z",
     "shell.execute_reply.started": "2023-10-17T04:12:28.434658Z"
    }
   },
   "outputs": [],
   "source": [
    "# load test data (note that the data has been transformed already)\n",
    "test_images = torch.load('/kaggle/input/fall-2023-ist-557-individual-project-ii/test_image.pt')"
   ]
  },
  {
   "cell_type": "markdown",
   "metadata": {},
   "source": [
    "## Take a look at your image data"
   ]
  },
  {
   "cell_type": "code",
   "execution_count": null,
   "metadata": {
    "execution": {
     "iopub.execute_input": "2023-10-17T04:12:34.542937Z",
     "iopub.status.busy": "2023-10-17T04:12:34.542523Z",
     "iopub.status.idle": "2023-10-17T04:12:35.035378Z",
     "shell.execute_reply": "2023-10-17T04:12:35.034427Z",
     "shell.execute_reply.started": "2023-10-17T04:12:34.542907Z"
    }
   },
   "outputs": [],
   "source": [
    "import matplotlib.pyplot as plt\n",
    "import numpy as np\n",
    "\n",
    "# functions to show an image\n",
    "def imshow(img):\n",
    "    img = img / 2 + 0.5     # unnormalize\n",
    "    npimg = img.numpy()\n",
    "    plt.imshow(np.transpose(npimg, (1, 2, 0)))\n",
    "    plt.show()\n",
    "\n",
    "\n",
    "# get a random batch of training images\n",
    "dataiter = iter(trainloader)\n",
    "images, labels = next(dataiter)\n",
    "\n",
    "print(images.shape, labels)\n",
    "\n",
    "# show images\n",
    "imshow(torchvision.utils.make_grid(images))\n",
    "# print labels\n",
    "print(' '.join(f'{classes[labels[j]]:5s}' for j in range(batch_size)))"
   ]
  },
  {
   "cell_type": "markdown",
   "metadata": {},
   "source": [
    "## Build a simple CNN model\n",
    "\n",
    "Your tasks:\n",
    "* Check the Pytorch document about Conv2d, MaxPool2d and Linear to understand the meaning of arguments\n",
    "* Tune the model hyperparameters"
   ]
  },
  {
   "cell_type": "code",
   "execution_count": null,
   "metadata": {
    "execution": {
     "iopub.execute_input": "2023-10-17T04:18:01.453898Z",
     "iopub.status.busy": "2023-10-17T04:18:01.453496Z",
     "iopub.status.idle": "2023-10-17T04:18:01.464061Z",
     "shell.execute_reply": "2023-10-17T04:18:01.462981Z",
     "shell.execute_reply.started": "2023-10-17T04:18:01.453867Z"
    }
   },
   "outputs": [],
   "source": [
    "import torch.nn as nn\n",
    "import torch.nn.functional as F\n",
    "\n",
    "# YOUR TASK: set the hyperparameters of CNN\n",
    "class CNN(nn.Module):\n",
    "    def __init__(self):\n",
    "        super().__init__()\n",
    "        self.conv1 = nn.Conv2d(3, 2, 5) # input channel=3, num of filter=2, size of filter=5*5\n",
    "        self.pool = nn.MaxPool2d(2, 2)\n",
    "        self.conv2 = nn.Conv2d(2, 2, 5) \n",
    "        self.fc1 = nn.Linear(2 * 5 * 5, 64)\n",
    "        self.fc2 = nn.Linear(64, 32)\n",
    "        self.fc3 = nn.Linear(32, 10)\n",
    "\n",
    "    def forward(self, x):\n",
    "        x = self.pool(F.relu(self.conv1(x)))\n",
    "        x = self.pool(F.relu(self.conv2(x)))\n",
    "        x = torch.flatten(x, 1) # flatten all dimensions except batch\n",
    "        x = F.relu(self.fc1(x))\n",
    "        x = F.relu(self.fc2(x))\n",
    "        x = self.fc3(x)\n",
    "        return x\n",
    "\n",
    "\n",
    "model = CNN()"
   ]
  },
  {
   "cell_type": "markdown",
   "metadata": {},
   "source": [
    "## Set up optimization method\n",
    "\n",
    "You tasks:\n",
    "* Check the Pytorch document about SGD to understand the optimization method\n",
    "* Tune the optimization hyperparameters"
   ]
  },
  {
   "cell_type": "code",
   "execution_count": null,
   "metadata": {
    "execution": {
     "iopub.execute_input": "2023-10-17T04:18:05.469882Z",
     "iopub.status.busy": "2023-10-17T04:18:05.469473Z",
     "iopub.status.idle": "2023-10-17T04:18:05.476068Z",
     "shell.execute_reply": "2023-10-17T04:18:05.474770Z",
     "shell.execute_reply.started": "2023-10-17T04:18:05.469850Z"
    }
   },
   "outputs": [],
   "source": [
    "import torch.optim as optim\n",
    "\n",
    "# YOUR TASK: observe the convergence speed and tune the learning rate\n",
    "criterion = nn.CrossEntropyLoss()\n",
    "optimizer = optim.SGD(model.parameters(), lr=0.0005, momentum=0.9)"
   ]
  },
  {
   "cell_type": "markdown",
   "metadata": {},
   "source": [
    "## Train CNN on training data via mini-batch SGD\n",
    "\n",
    "Your tasks:\n",
    "* Check how loss changes\n",
    "* Based on its convergence, tune the optimizer and epoch number\n",
    "* Try adjust the model to see if the low can futher decrease to lower value"
   ]
  },
  {
   "cell_type": "code",
   "execution_count": null,
   "metadata": {
    "execution": {
     "iopub.execute_input": "2023-10-17T04:18:07.592641Z",
     "iopub.status.busy": "2023-10-17T04:18:07.592093Z",
     "iopub.status.idle": "2023-10-17T04:18:46.977453Z",
     "shell.execute_reply": "2023-10-17T04:18:46.975208Z",
     "shell.execute_reply.started": "2023-10-17T04:18:07.592600Z"
    }
   },
   "outputs": [],
   "source": [
    "# YOUR TASK: observe the loss change and set the right epoch number\n",
    "total_epoch = 1\n",
    "for epoch in range(total_epoch):  # loop over the dataset 'total_epoch' times\n",
    "    running_loss = 0.0\n",
    "    for i, data in enumerate(trainloader, 0): # for each batch of data\n",
    "        # get the inputs; data is a list of [inputs, labels]\n",
    "        inputs, labels = data\n",
    "\n",
    "        # zero the parameter gradients\n",
    "        optimizer.zero_grad()\n",
    "\n",
    "        # forward + backward + optimize\n",
    "        outputs = model(inputs) # forward pass\n",
    "        loss = criterion(outputs, labels) # calc loss\n",
    "        loss.backward() # back propagation\n",
    "        optimizer.step() # one step gradient descent\n",
    "\n",
    "        # print statistics\n",
    "        running_loss += loss.item()\n",
    "        if i % 1000 == 999:    # print average loss every 1000 mini-batches\n",
    "            print(f'[{epoch + 1}, {i + 1:5d}] loss: {running_loss / 1000:.3f}')\n",
    "            running_loss = 0.0\n",
    "\n",
    "print('Finished Training')"
   ]
  },
  {
   "cell_type": "markdown",
   "metadata": {},
   "source": [
    "## Make prediction on test images"
   ]
  },
  {
   "cell_type": "code",
   "execution_count": null,
   "metadata": {
    "execution": {
     "iopub.execute_input": "2023-10-17T04:17:14.033546Z",
     "iopub.status.busy": "2023-10-17T04:17:14.033150Z",
     "iopub.status.idle": "2023-10-17T04:17:14.719369Z",
     "shell.execute_reply": "2023-10-17T04:17:14.718207Z",
     "shell.execute_reply.started": "2023-10-17T04:17:14.033519Z"
    }
   },
   "outputs": [],
   "source": [
    "# since now we're testing (not training), we set no_grad to NOT calculate the gradients\n",
    "with torch.no_grad():\n",
    "    # calculate outputs by running images through the network\n",
    "    outputs = model(test_images)\n",
    "    # the class with the highest probability is what we choose as prediction\n",
    "    _, predicted = torch.max(outputs.data, 1)\n",
    "    predicted = np.array([classes[i] for i in predicted])\n",
    "    \n",
    "print(predicted)\n",
    "# show images\n",
    "imshow(torchvision.utils.make_grid(test_images[:4]))\n",
    "\n",
    "submission = pd.DataFrame()\n",
    "submission['label'] = predicted\n",
    "submission.to_csv(\"submission.csv\", index=True, index_label='id')\n",
    "submission"
   ]
  }
 ],
 "metadata": {
  "kernelspec": {
   "display_name": "Python 3 (ipykernel)",
   "language": "python",
   "name": "python3"
  },
  "language_info": {
   "codemirror_mode": {
    "name": "ipython",
    "version": 3
   },
   "file_extension": ".py",
   "mimetype": "text/x-python",
   "name": "python",
   "nbconvert_exporter": "python",
   "pygments_lexer": "ipython3",
   "version": "3.8.10"
  }
 },
 "nbformat": 4,
 "nbformat_minor": 4
}
